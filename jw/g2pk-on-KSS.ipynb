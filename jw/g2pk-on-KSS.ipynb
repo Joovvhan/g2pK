{
 "cells": [
  {
   "cell_type": "code",
   "execution_count": 1,
   "metadata": {},
   "outputs": [],
   "source": [
    "from g2pk import G2p\n",
    "g2p = G2p()"
   ]
  },
  {
   "cell_type": "code",
   "execution_count": 2,
   "metadata": {},
   "outputs": [],
   "source": [
    "from glob import glob\n",
    "import csv"
   ]
  },
  {
   "cell_type": "code",
   "execution_count": 3,
   "metadata": {},
   "outputs": [],
   "source": [
    "from tqdm.notebook import tqdm"
   ]
  },
  {
   "cell_type": "code",
   "execution_count": 4,
   "metadata": {},
   "outputs": [],
   "source": [
    "metafile_path = 'transcript.v.1.4.txt'"
   ]
  },
  {
   "cell_type": "code",
   "execution_count": 5,
   "metadata": {},
   "outputs": [],
   "source": [
    "def filter_content(contents):\n",
    "    \n",
    "    file_name = contents[0]\n",
    "    text = contents[1]\n",
    "    korean_text = contents[2]\n",
    "    jamo_text = contents[3]\n",
    "    wav_duration = float(contents[4])\n",
    "    english_text = contents[5]\n",
    "    \n",
    "    return file_name, korean_text\n",
    "    "
   ]
  },
  {
   "cell_type": "code",
   "execution_count": 6,
   "metadata": {
    "scrolled": false
   },
   "outputs": [
    {
     "data": {
      "application/vnd.jupyter.widget-view+json": {
       "model_id": "449636d1a03b4cc5ac773d0b1a4df6b0",
       "version_major": 2,
       "version_minor": 0
      },
      "text/plain": [
       "HBox(children=(IntProgress(value=1, bar_style='info', max=1), HTML(value='')))"
      ]
     },
     "metadata": {},
     "output_type": "display_data"
    },
    {
     "name": "stdout",
     "output_type": "stream",
     "text": [
      "\n"
     ]
    }
   ],
   "source": [
    "with open('kss_g2p.csv', 'w') as save_file:\n",
    "    \n",
    "    csv_writer = csv.writer(save_file, delimiter='|')\n",
    "    \n",
    "    with open(metafile_path, 'r', encoding='utf-8') as file:\n",
    "        for line in tqdm(file):\n",
    "            contents = line.split('|')\n",
    "\n",
    "            file_name, korean_text = filter_content(contents)\n",
    "            \n",
    "            # korean_phoneme = g2p(korean_text, verbose=True)\n",
    "            # print()\n",
    "            korean_phoneme = g2p(korean_text, verbose=False)\n",
    "            \n",
    "            csv_writer.writerow([file_name, korean_text, korean_phoneme])\n",
    "        "
   ]
  },
  {
   "cell_type": "code",
   "execution_count": 7,
   "metadata": {
    "scrolled": true
   },
   "outputs": [],
   "source": [
    "with open('kss_g2p_mod.csv', 'w', encoding='utf-8') as mod_file:\n",
    "    \n",
    "    with open('kss_g2p.csv', 'r', encoding='utf-8') as file:\n",
    "        for line in file:\n",
    "            \n",
    "            line = line.replace(',', \"_\").strip()\n",
    "\n",
    "#           print(line)\n",
    "            \n",
    "            mod_file.write(line)\n",
    "            mod_file.write('\\n')\n",
    "        "
   ]
  }
 ],
 "metadata": {
  "kernelspec": {
   "display_name": "Python 3",
   "language": "python",
   "name": "python3"
  },
  "language_info": {
   "codemirror_mode": {
    "name": "ipython",
    "version": 3
   },
   "file_extension": ".py",
   "mimetype": "text/x-python",
   "name": "python",
   "nbconvert_exporter": "python",
   "pygments_lexer": "ipython3",
   "version": "3.7.5"
  }
 },
 "nbformat": 4,
 "nbformat_minor": 2
}
